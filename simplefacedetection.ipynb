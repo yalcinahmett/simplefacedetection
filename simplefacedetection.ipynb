{
  "nbformat": 4,
  "nbformat_minor": 0,
  "metadata": {
    "colab": {
      "provenance": []
    },
    "kernelspec": {
      "name": "python3",
      "display_name": "Python 3"
    },
    "language_info": {
      "name": "python"
    }
  },
  "cells": [
    {
      "cell_type": "markdown",
      "source": [
        "OpenCV kütüphanesini import ediyoruz."
      ],
      "metadata": {
        "id": "DwHg9Wu56mdU"
      }
    },
    {
      "cell_type": "code",
      "execution_count": 3,
      "metadata": {
        "id": "bSzaql-q4Jay"
      },
      "outputs": [],
      "source": [
        "import cv2"
      ]
    },
    {
      "cell_type": "markdown",
      "source": [
        "Train edilmiş hazır bir face detection algoritmasının dosyasını yüklüyoruz."
      ],
      "metadata": {
        "id": "NtpdH0EP6tk3"
      }
    },
    {
      "cell_type": "code",
      "source": [
        "face_cascade = cv2.CascadeClassifier('face_detector.xml')"
      ],
      "metadata": {
        "id": "MJjRr4gT4mvk"
      },
      "execution_count": 5,
      "outputs": []
    },
    {
      "cell_type": "markdown",
      "source": [
        "Herhangi bir yüz resmini yüklüyoruz."
      ],
      "metadata": {
        "id": "EuaRQZgH6-Rp"
      }
    },
    {
      "cell_type": "code",
      "source": [
        "img = cv2.imread('image.png')"
      ],
      "metadata": {
        "id": "oex0qDUu50D0"
      },
      "execution_count": 11,
      "outputs": []
    },
    {
      "cell_type": "markdown",
      "source": [
        "OpenCV sayesinde sadece 1 satır kodla yüzü tespit edebiliyoruz."
      ],
      "metadata": {
        "id": "5PdeETVB7U5h"
      }
    },
    {
      "cell_type": "code",
      "source": [
        "faces = face_cascade.detectMultiScale(img, 1.1, 4)"
      ],
      "metadata": {
        "id": "i30LDml-52T3"
      },
      "execution_count": 12,
      "outputs": []
    },
    {
      "cell_type": "markdown",
      "source": [
        "Yüzün etrafındaki dikdörtgeni çizen kod."
      ],
      "metadata": {
        "id": "JAjQu6wG7Oze"
      }
    },
    {
      "cell_type": "code",
      "source": [
        "for (x, y, w, h) in faces:\n",
        "    cv2.rectangle(img, (x, y), (x+w, y+h), (255, 0, 0), 2)\n",
        "cv2.imwrite(\"face_detected.png\", img)\n",
        "print('Successfully saved')"
      ],
      "metadata": {
        "colab": {
          "base_uri": "https://localhost:8080/"
        },
        "id": "Kof4FWRl54ku",
        "outputId": "26fa8160-55d9-427b-aa03-cd99e71849ee"
      },
      "execution_count": 13,
      "outputs": [
        {
          "output_type": "stream",
          "name": "stdout",
          "text": [
            "Successfully saved\n"
          ]
        }
      ]
    }
  ]
}